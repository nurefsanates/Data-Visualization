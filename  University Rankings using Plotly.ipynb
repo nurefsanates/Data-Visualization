{
 "cells": [
  {
   "cell_type": "code",
   "execution_count": 10,
   "id": "bf71918f-07fb-48d4-b244-a54330fbb52a",
   "metadata": {},
   "outputs": [
    {
     "name": "stdout",
     "output_type": "stream",
     "text": [
      "Requirement already satisfied: plotly in c:\\users\\nurefşan ateş\\appdata\\local\\programs\\python\\python311\\lib\\site-packages (5.18.0)\n",
      "Requirement already satisfied: tenacity>=6.2.0 in c:\\users\\nurefşan ateş\\appdata\\local\\programs\\python\\python311\\lib\\site-packages (from plotly) (8.2.3)\n",
      "Requirement already satisfied: packaging in c:\\users\\nurefşan ateş\\appdata\\local\\programs\\python\\python311\\lib\\site-packages (from plotly) (23.2)\n",
      "Note: you may need to restart the kernel to use updated packages.\n"
     ]
    },
    {
     "name": "stderr",
     "output_type": "stream",
     "text": [
      "\n",
      "[notice] A new release of pip is available: 23.1.2 -> 23.3.2\n",
      "[notice] To update, run: python.exe -m pip install --upgrade pip\n"
     ]
    }
   ],
   "source": [
    "pip install plotly"
   ]
  },
  {
   "cell_type": "code",
   "execution_count": 28,
   "id": "4d4fff9e-a41c-4cb0-9a7b-ad63faabfdeb",
   "metadata": {},
   "outputs": [
    {
     "data": {
      "text/html": [
       "        <script type=\"text/javascript\">\n",
       "        window.PlotlyConfig = {MathJaxConfig: 'local'};\n",
       "        if (window.MathJax && window.MathJax.Hub && window.MathJax.Hub.Config) {window.MathJax.Hub.Config({SVG: {font: \"STIX-Web\"}});}\n",
       "        if (typeof require !== 'undefined') {\n",
       "        require.undef(\"plotly\");\n",
       "        requirejs.config({\n",
       "            paths: {\n",
       "                'plotly': ['https://cdn.plot.ly/plotly-2.27.0.min']\n",
       "            }\n",
       "        });\n",
       "        require(['plotly'], function(Plotly) {\n",
       "            window._Plotly = Plotly;\n",
       "        });\n",
       "        }\n",
       "        </script>\n",
       "        "
      ]
     },
     "metadata": {},
     "output_type": "display_data"
    }
   ],
   "source": [
    "import pandas as pd\n",
    "import matplotlib.pyplot as plt\n",
    "import numpy as np\n",
    "import warnings\n",
    "warnings.filterwarnings(\"ignore\")\n",
    "from plotly.offline import init_notebook_mode, iplot, plot\n",
    "import plotly as py\n",
    "init_notebook_mode(connected=True)\n",
    "import plotly.graph_objs as go\n",
    "import plotly.io as pio\n",
    "import plotly.figure_factory as ff"
   ]
  },
  {
   "cell_type": "code",
   "execution_count": 29,
   "id": "e6ce5bdb-5daa-4916-9929-d15f70fed0cd",
   "metadata": {},
   "outputs": [
    {
     "data": {
      "text/html": [
       "<div>\n",
       "<style scoped>\n",
       "    .dataframe tbody tr th:only-of-type {\n",
       "        vertical-align: middle;\n",
       "    }\n",
       "\n",
       "    .dataframe tbody tr th {\n",
       "        vertical-align: top;\n",
       "    }\n",
       "\n",
       "    .dataframe thead th {\n",
       "        text-align: right;\n",
       "    }\n",
       "</style>\n",
       "<table border=\"1\" class=\"dataframe\">\n",
       "  <thead>\n",
       "    <tr style=\"text-align: right;\">\n",
       "      <th></th>\n",
       "      <th>world_rank</th>\n",
       "      <th>university_name</th>\n",
       "      <th>country</th>\n",
       "      <th>teaching</th>\n",
       "      <th>international</th>\n",
       "      <th>research</th>\n",
       "      <th>citations</th>\n",
       "      <th>income</th>\n",
       "      <th>total_score</th>\n",
       "      <th>num_students</th>\n",
       "      <th>student_staff_ratio</th>\n",
       "      <th>international_students</th>\n",
       "      <th>female_male_ratio</th>\n",
       "      <th>year</th>\n",
       "    </tr>\n",
       "  </thead>\n",
       "  <tbody>\n",
       "    <tr>\n",
       "      <th>0</th>\n",
       "      <td>1</td>\n",
       "      <td>Harvard University</td>\n",
       "      <td>United States of America</td>\n",
       "      <td>99.7</td>\n",
       "      <td>72.4</td>\n",
       "      <td>98.7</td>\n",
       "      <td>98.8</td>\n",
       "      <td>34.5</td>\n",
       "      <td>96.1</td>\n",
       "      <td>20,152</td>\n",
       "      <td>8.9</td>\n",
       "      <td>25%</td>\n",
       "      <td>NaN</td>\n",
       "      <td>2011</td>\n",
       "    </tr>\n",
       "    <tr>\n",
       "      <th>1</th>\n",
       "      <td>2</td>\n",
       "      <td>California Institute of Technology</td>\n",
       "      <td>United States of America</td>\n",
       "      <td>97.7</td>\n",
       "      <td>54.6</td>\n",
       "      <td>98.0</td>\n",
       "      <td>99.9</td>\n",
       "      <td>83.7</td>\n",
       "      <td>96.0</td>\n",
       "      <td>2,243</td>\n",
       "      <td>6.9</td>\n",
       "      <td>27%</td>\n",
       "      <td>33 : 67</td>\n",
       "      <td>2011</td>\n",
       "    </tr>\n",
       "    <tr>\n",
       "      <th>2</th>\n",
       "      <td>3</td>\n",
       "      <td>Massachusetts Institute of Technology</td>\n",
       "      <td>United States of America</td>\n",
       "      <td>97.8</td>\n",
       "      <td>82.3</td>\n",
       "      <td>91.4</td>\n",
       "      <td>99.9</td>\n",
       "      <td>87.5</td>\n",
       "      <td>95.6</td>\n",
       "      <td>11,074</td>\n",
       "      <td>9.0</td>\n",
       "      <td>33%</td>\n",
       "      <td>37 : 63</td>\n",
       "      <td>2011</td>\n",
       "    </tr>\n",
       "  </tbody>\n",
       "</table>\n",
       "</div>"
      ],
      "text/plain": [
       "  world_rank                        university_name                   country  \\\n",
       "0          1                     Harvard University  United States of America   \n",
       "1          2     California Institute of Technology  United States of America   \n",
       "2          3  Massachusetts Institute of Technology  United States of America   \n",
       "\n",
       "   teaching international  research  citations income total_score  \\\n",
       "0      99.7          72.4      98.7       98.8   34.5        96.1   \n",
       "1      97.7          54.6      98.0       99.9   83.7        96.0   \n",
       "2      97.8          82.3      91.4       99.9   87.5        95.6   \n",
       "\n",
       "  num_students  student_staff_ratio international_students female_male_ratio  \\\n",
       "0       20,152                  8.9                    25%               NaN   \n",
       "1        2,243                  6.9                    27%           33 : 67   \n",
       "2       11,074                  9.0                    33%           37 : 63   \n",
       "\n",
       "   year  \n",
       "0  2011  \n",
       "1  2011  \n",
       "2  2011  "
      ]
     },
     "execution_count": 29,
     "metadata": {},
     "output_type": "execute_result"
    }
   ],
   "source": [
    "veri=pd.read_csv(\"universite_siralamasi.csv\")\n",
    "veri.head(3)"
   ]
  },
  {
   "cell_type": "code",
   "execution_count": 30,
   "id": "2e569630-c8cd-41aa-a6f0-4ea346fcc063",
   "metadata": {},
   "outputs": [
    {
     "data": {
      "text/plain": [
       "Index(['world_rank', 'university_name', 'country', 'teaching', 'international',\n",
       "       'research', 'citations', 'income', 'total_score', 'num_students',\n",
       "       'student_staff_ratio', 'international_students', 'female_male_ratio',\n",
       "       'year'],\n",
       "      dtype='object')"
      ]
     },
     "execution_count": 30,
     "metadata": {},
     "output_type": "execute_result"
    }
   ],
   "source": [
    "veri.columns"
   ]
  },
  {
   "cell_type": "code",
   "execution_count": 31,
   "id": "5e5298c5-d720-4bc3-9392-a432b9e60dce",
   "metadata": {},
   "outputs": [
    {
     "data": {
      "text/html": [
       "<div>\n",
       "<style scoped>\n",
       "    .dataframe tbody tr th:only-of-type {\n",
       "        vertical-align: middle;\n",
       "    }\n",
       "\n",
       "    .dataframe tbody tr th {\n",
       "        vertical-align: top;\n",
       "    }\n",
       "\n",
       "    .dataframe thead th {\n",
       "        text-align: right;\n",
       "    }\n",
       "</style>\n",
       "<table border=\"1\" class=\"dataframe\">\n",
       "  <thead>\n",
       "    <tr style=\"text-align: right;\">\n",
       "      <th></th>\n",
       "      <th>dunya_siralama</th>\n",
       "      <th>uni_isim</th>\n",
       "      <th>ulke</th>\n",
       "      <th>ogretim</th>\n",
       "      <th>uluslararasi</th>\n",
       "      <th>arastirma</th>\n",
       "      <th>alinti</th>\n",
       "      <th>gelir</th>\n",
       "      <th>toplam_puan</th>\n",
       "      <th>ogrenci_sayisi</th>\n",
       "      <th>ogrenci_calisan_orani</th>\n",
       "      <th>uluslararasi_ogrenci</th>\n",
       "      <th>kadin_erkek_orani</th>\n",
       "      <th>yil</th>\n",
       "    </tr>\n",
       "  </thead>\n",
       "  <tbody>\n",
       "    <tr>\n",
       "      <th>0</th>\n",
       "      <td>1</td>\n",
       "      <td>Harvard University</td>\n",
       "      <td>United States of America</td>\n",
       "      <td>99.7</td>\n",
       "      <td>72.4</td>\n",
       "      <td>98.7</td>\n",
       "      <td>98.8</td>\n",
       "      <td>34.5</td>\n",
       "      <td>96.1</td>\n",
       "      <td>20,152</td>\n",
       "      <td>8.9</td>\n",
       "      <td>25%</td>\n",
       "      <td>NaN</td>\n",
       "      <td>2011</td>\n",
       "    </tr>\n",
       "    <tr>\n",
       "      <th>1</th>\n",
       "      <td>2</td>\n",
       "      <td>California Institute of Technology</td>\n",
       "      <td>United States of America</td>\n",
       "      <td>97.7</td>\n",
       "      <td>54.6</td>\n",
       "      <td>98.0</td>\n",
       "      <td>99.9</td>\n",
       "      <td>83.7</td>\n",
       "      <td>96.0</td>\n",
       "      <td>2,243</td>\n",
       "      <td>6.9</td>\n",
       "      <td>27%</td>\n",
       "      <td>33 : 67</td>\n",
       "      <td>2011</td>\n",
       "    </tr>\n",
       "  </tbody>\n",
       "</table>\n",
       "</div>"
      ],
      "text/plain": [
       "  dunya_siralama                            uni_isim  \\\n",
       "0              1                  Harvard University   \n",
       "1              2  California Institute of Technology   \n",
       "\n",
       "                       ulke  ogretim uluslararasi  arastirma  alinti gelir  \\\n",
       "0  United States of America     99.7         72.4       98.7    98.8  34.5   \n",
       "1  United States of America     97.7         54.6       98.0    99.9  83.7   \n",
       "\n",
       "  toplam_puan ogrenci_sayisi  ogrenci_calisan_orani uluslararasi_ogrenci  \\\n",
       "0        96.1         20,152                    8.9                  25%   \n",
       "1        96.0          2,243                    6.9                  27%   \n",
       "\n",
       "  kadin_erkek_orani   yil  \n",
       "0               NaN  2011  \n",
       "1           33 : 67  2011  "
      ]
     },
     "execution_count": 31,
     "metadata": {},
     "output_type": "execute_result"
    }
   ],
   "source": [
    "veri.rename(columns={'world_rank'                :'dunya_siralama',\n",
    "                    'university_name'            :'uni_isim',\n",
    "                    'country'                    :'ulke',\n",
    "                    'teaching'                   :'ogretim',\n",
    "                    'international'              :'uluslararasi',\n",
    "                    'research'                   :'arastirma',\n",
    "                    'citations'                  :'alinti',\n",
    "                    'income'                     :'gelir',\n",
    "                    'total_score'                :'toplam_puan',\n",
    "                    'num_students'               :'ogrenci_sayisi',\n",
    "                    'student_staff_ratio'        :'ogrenci_calisan_orani',\n",
    "                    'international_students'     :'uluslararasi_ogrenci',\n",
    "                    'female_male_ratio'          :'kadin_erkek_orani',\n",
    "                    'year'                       :'yil'}, inplace=True)\n",
    "veri.head(2)"
   ]
  },
  {
   "cell_type": "code",
   "execution_count": 32,
   "id": "e8e23c75-d4de-4a59-a9a2-4dfe61a2983d",
   "metadata": {},
   "outputs": [
    {
     "data": {
      "text/html": [
       "<div>\n",
       "<style scoped>\n",
       "    .dataframe tbody tr th:only-of-type {\n",
       "        vertical-align: middle;\n",
       "    }\n",
       "\n",
       "    .dataframe tbody tr th {\n",
       "        vertical-align: top;\n",
       "    }\n",
       "\n",
       "    .dataframe thead th {\n",
       "        text-align: right;\n",
       "    }\n",
       "</style>\n",
       "<table border=\"1\" class=\"dataframe\">\n",
       "  <thead>\n",
       "    <tr style=\"text-align: right;\">\n",
       "      <th></th>\n",
       "      <th>dunya_siralama</th>\n",
       "      <th>uni_isim</th>\n",
       "      <th>ulke</th>\n",
       "      <th>ogretim</th>\n",
       "      <th>uluslararasi</th>\n",
       "      <th>arastirma</th>\n",
       "      <th>alinti</th>\n",
       "      <th>gelir</th>\n",
       "      <th>toplam_puan</th>\n",
       "      <th>ogrenci_sayisi</th>\n",
       "      <th>ogrenci_calisan_orani</th>\n",
       "      <th>uluslararasi_ogrenci</th>\n",
       "      <th>kadin_erkek_orani</th>\n",
       "      <th>yil</th>\n",
       "    </tr>\n",
       "  </thead>\n",
       "  <tbody>\n",
       "    <tr>\n",
       "      <th>0</th>\n",
       "      <td>1</td>\n",
       "      <td>Harvard University</td>\n",
       "      <td>United States of America</td>\n",
       "      <td>99.7</td>\n",
       "      <td>72.4</td>\n",
       "      <td>98.7</td>\n",
       "      <td>98.8</td>\n",
       "      <td>34.5</td>\n",
       "      <td>96.1</td>\n",
       "      <td>20,152</td>\n",
       "      <td>8.9</td>\n",
       "      <td>25%</td>\n",
       "      <td>NaN</td>\n",
       "      <td>2011</td>\n",
       "    </tr>\n",
       "    <tr>\n",
       "      <th>1</th>\n",
       "      <td>2</td>\n",
       "      <td>California Institute of Technology</td>\n",
       "      <td>United States of America</td>\n",
       "      <td>97.7</td>\n",
       "      <td>54.6</td>\n",
       "      <td>98.0</td>\n",
       "      <td>99.9</td>\n",
       "      <td>83.7</td>\n",
       "      <td>96.0</td>\n",
       "      <td>2,243</td>\n",
       "      <td>6.9</td>\n",
       "      <td>27%</td>\n",
       "      <td>33 : 67</td>\n",
       "      <td>2011</td>\n",
       "    </tr>\n",
       "    <tr>\n",
       "      <th>2</th>\n",
       "      <td>3</td>\n",
       "      <td>Massachusetts Institute of Technology</td>\n",
       "      <td>United States of America</td>\n",
       "      <td>97.8</td>\n",
       "      <td>82.3</td>\n",
       "      <td>91.4</td>\n",
       "      <td>99.9</td>\n",
       "      <td>87.5</td>\n",
       "      <td>95.6</td>\n",
       "      <td>11,074</td>\n",
       "      <td>9.0</td>\n",
       "      <td>33%</td>\n",
       "      <td>37 : 63</td>\n",
       "      <td>2011</td>\n",
       "    </tr>\n",
       "  </tbody>\n",
       "</table>\n",
       "</div>"
      ],
      "text/plain": [
       "  dunya_siralama                               uni_isim  \\\n",
       "0              1                     Harvard University   \n",
       "1              2     California Institute of Technology   \n",
       "2              3  Massachusetts Institute of Technology   \n",
       "\n",
       "                       ulke  ogretim uluslararasi  arastirma  alinti gelir  \\\n",
       "0  United States of America     99.7         72.4       98.7    98.8  34.5   \n",
       "1  United States of America     97.7         54.6       98.0    99.9  83.7   \n",
       "2  United States of America     97.8         82.3       91.4    99.9  87.5   \n",
       "\n",
       "  toplam_puan ogrenci_sayisi  ogrenci_calisan_orani uluslararasi_ogrenci  \\\n",
       "0        96.1         20,152                    8.9                  25%   \n",
       "1        96.0          2,243                    6.9                  27%   \n",
       "2        95.6         11,074                    9.0                  33%   \n",
       "\n",
       "  kadin_erkek_orani   yil  \n",
       "0               NaN  2011  \n",
       "1           33 : 67  2011  \n",
       "2           37 : 63  2011  "
      ]
     },
     "execution_count": 32,
     "metadata": {},
     "output_type": "execute_result"
    }
   ],
   "source": [
    "#ÇİZGİ GRAFİĞİ\n",
    "df=veri.iloc[:100,:]\n",
    "df.head(3)"
   ]
  },
  {
   "cell_type": "code",
   "execution_count": 33,
   "id": "12f39a19-cec5-4eea-8953-6b98fcb95d8c",
   "metadata": {},
   "outputs": [],
   "source": [
    "#plotly stilleri\n",
    "pio.templates.default=\"simple_white\""
   ]
  },
  {
   "cell_type": "code",
   "execution_count": 34,
   "id": "e44b919b-cee9-4ebe-a2d8-f847ea6a7349",
   "metadata": {},
   "outputs": [
    {
     "data": {
      "text/plain": [
       "'1_çizgi-alıntı ve öğretim puanları.html'"
      ]
     },
     "execution_count": 34,
     "metadata": {},
     "output_type": "execute_result"
    }
   ],
   "source": [
    "#Grafik objeleri oluşturuyorum\n",
    "cizgi1=go.Scatter(x=df.dunya_siralama, #x ekseninde dunya sıralaması\n",
    "                 y=df.alinti, #y ekseninde alıntılar\n",
    "                 mode=\"markers\", #işaretçi koy\n",
    "                 name=\"Alıntı\", #grafiğin adı\n",
    "                 marker=dict(color='rgba(78,78,250,0.85)'), #markerların rengini belirliyorum\n",
    "                 text=df.uni_isim) #grafik üzerinde gezinirken üninin ismi gözüksün\n",
    "\n",
    "cizgi2=go.Scatter(x=df.dunya_siralama, #x ekseninde dunya sıralaması\n",
    "                 y=df.ogretim, #y ekseninde alıntılar\n",
    "                 mode=\"markers\", #işaretçi koy\n",
    "                 name=\"Eğitim-Öğretim Faaliyetleri\", #grafiğin adı\n",
    "                 marker=dict(color='rgba(202,43,15,0.85)'), #markerların rengini belirliyorum\n",
    "                 text=df.uni_isim) #grafik üzerinde gezinirken üninin ismi gözüksün\n",
    "\n",
    "veri= [cizgi1,cizgi2]\n",
    "yerlesim=dict(title='Dünya Sıralamasında İlk 100 Üniversitenin Atıf ve Egitim-Öğretim Puanları',\n",
    "             xaxis=dict(title='Dünya Sıralaması', ticklen=5,zeroline=False))\n",
    "fig=dict(data=veri, layout=yerlesim)\n",
    "plot(fig, filename='1_çizgi-alıntı ve öğretim puanları.html')"
   ]
  },
  {
   "cell_type": "code",
   "execution_count": 25,
   "id": "c773dba2-1e18-4f0b-9594-ec5f8e934fd7",
   "metadata": {},
   "outputs": [
    {
     "data": {
      "text/plain": [
       "'2_çubuk-alıntı ve öğretim puanları.html'"
      ]
     },
     "execution_count": 25,
     "metadata": {},
     "output_type": "execute_result"
    }
   ],
   "source": [
    "#ÇUBUK GRAFİĞİ\n",
    "#Veriyi ayrıştırıyorum-İlk 5 üniversiteye ait \n",
    "veri2011=df[df.yil==2011].iloc[:5,:]\n",
    "#Grafik objeleri oluşturuyorum\n",
    "cizgi1=go.Bar(x=veri2011.uni_isim, #x ekseninde uni ismi\n",
    "              y=veri2011.alinti, #y ekseninde alıntılar\n",
    "              name=\"Alıntı\", #grafiğin adı\n",
    "              marker=dict(color='rgba(255,127,40,0.5)', #markerların rengini belirliyorum\n",
    "                          line=dict(color='rgb(0,0,0)',width=1.5)),\n",
    "              text=veri2011.ulke) #grafik üzerinde gezinirken ülke ismi gözüksün\n",
    "\n",
    "cizgi2=go.Bar(x=veri2011.uni_isim, #x ekseninde uni ismi\n",
    "              y=veri2011.ogretim, #y ekseninde alıntılar\n",
    "              name=\"Eğitim-Öğretim Faaliyetleri\", #grafiğin adı\n",
    "              marker=dict(color='rgba(64,10,128,0.5)', #markerların rengini belirliyorum\n",
    "                          line=dict(color='rgb(0,0,0)',width=1.5)),\n",
    "              text=veri2011.ulke) #grafik üzerinde gezinirken ülke ismi gözüksün\n",
    "\n",
    "veri_= [cizgi1,cizgi2]\n",
    "yerlesim=go.Layout(barmode=\"group\")\n",
    "fig=go.Figure(data=veri_,layout=yerlesim)\n",
    "plot(fig, filename='2_çubuk-alıntı ve öğretim puanları.html')"
   ]
  },
  {
   "cell_type": "code",
   "execution_count": 39,
   "id": "9d3fba81-1766-4842-8702-f03f415f05f3",
   "metadata": {},
   "outputs": [
    {
     "data": {
      "text/plain": [
       "'3_dairesel-öğrenci sayisi.html'"
      ]
     },
     "execution_count": 39,
     "metadata": {},
     "output_type": "execute_result"
    }
   ],
   "source": [
    "#DAİRESEL GRAFİK\n",
    "veri_2011= df[df.yil==2011].iloc[:8,:]\n",
    "dilim1=veri_2011.ogrenci_sayisi\n",
    "dilim1_liste=[float(each.replace(',' , '.')) for each in veri_2011.ogrenci_sayisi] #virgülleri nokta ile değiştirme\n",
    "etiketler=veri_2011.uni_isim\n",
    "\n",
    "cizgi=go.Pie(labels=etiketler,\n",
    "            values=dilim1_liste,\n",
    "            hoverinfo='label+value+percent',\n",
    "            textinfo='value+percent',\n",
    "            textfont=dict(size=12),\n",
    "            rotation=0.3,\n",
    "            marker=dict(line=dict(color='#000000',width=1)))\n",
    "veri_=[cizgi]\n",
    "yerlesim=dict(title='2011 Yılı İlk 8 Üniversitesi Öğrenci Sayıları ve Oranları',\n",
    "             legend=dict(orientation='h'))\n",
    "fig=dict(data=veri_,layout=yerlesim)\n",
    "plot(fig,filename='3_dairesel-öğrenci sayisi.html')"
   ]
  },
  {
   "cell_type": "code",
   "execution_count": 42,
   "id": "9532bf97-5263-43f6-9c10-973f0bdc30e9",
   "metadata": {},
   "outputs": [
    {
     "data": {
      "text/plain": [
       "'4_kabarcık-öğrenci sayısı.html'"
      ]
     },
     "execution_count": 42,
     "metadata": {},
     "output_type": "execute_result"
    }
   ],
   "source": [
    "#KABARCIK GRAFİĞİ\n",
    "veri_2011=df[df.yil==2011].iloc[:20,:]\n",
    "ogrenci_sayisi=[float(each.replace(',' , '.')) for each in veri_2011.ogrenci_sayisi] #virgülleri nokta ile değiştirme\n",
    "\n",
    "uluslararasi_renk=[float(each.replace('-' , '0')) for each in veri_2011.uluslararasi]\n",
    "data=[{'y': veri_2011.ogretim,\n",
    "      'x': veri_2011.dunya_siralama,\n",
    "      'mode': 'markers',\n",
    "      'marker': {'color': uluslararasi_renk, #kabarcıkların renkleri uluslararasına göre \n",
    "                 'size': ogrenci_sayisi, #büyüklüğü de ogrenci sayısına göre\n",
    "                 'showscale': True},\n",
    "      'text': veri_2011.uni_isim}]\n",
    "plot(data,filename='4_kabarcık-öğrenci sayısı.html') #grafiği html dosya formatında oluşturur"
   ]
  }
 ],
 "metadata": {
  "kernelspec": {
   "display_name": "Python 3 (ipykernel)",
   "language": "python",
   "name": "python3"
  },
  "language_info": {
   "codemirror_mode": {
    "name": "ipython",
    "version": 3
   },
   "file_extension": ".py",
   "mimetype": "text/x-python",
   "name": "python",
   "nbconvert_exporter": "python",
   "pygments_lexer": "ipython3",
   "version": "3.11.4"
  }
 },
 "nbformat": 4,
 "nbformat_minor": 5
}
